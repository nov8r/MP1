{
 "cells": [
  {
   "cell_type": "markdown",
   "metadata": {},
   "source": [
    "First, we need to import pandas and convert the data to a dataframe."
   ]
  },
  {
   "cell_type": "code",
   "execution_count": 7,
   "metadata": {},
   "outputs": [],
   "source": [
    "import pandas as pd\n",
    "\n",
    "# Convert the data to a DataFrame\n",
    "survey_df = pd.read_csv(\"on-campus-dining-survey.csv\")"
   ]
  },
  {
   "cell_type": "markdown",
   "metadata": {},
   "source": [
    "Second, we need to gather all the percentages for the categories in our data."
   ]
  },
  {
   "cell_type": "code",
   "execution_count": 8,
   "metadata": {},
   "outputs": [],
   "source": [
    "# Get percentages for each category\n",
    "\n",
    "# Percentage of genders in the survey\n",
    "gender_percentage = (survey_df['Gender'].value_counts(normalize=True) * 100).round(1)\n",
    "\n",
    "# Percentages of where people eat on campus\n",
    "# To do this, I had to count each selection and add them up then get the percentage\n",
    "where_to_eat_counts = survey_df['Where do you eat on campus? (Select all that apply)'].str.split(';').explode().value_counts()\n",
    "where_to_eat_percentages = (where_to_eat_counts / len(survey_df) * 100).round(1)\n",
    "\n",
    "# All other percentages for the other categories\n",
    "preferred_choice_percentage = (survey_df['What is your preferred choice?'].value_counts(normalize=True) * 100).round(1)\n",
    "when_do_you_go_percentage = (survey_df['When do you usually go?'].value_counts(normalize=True) * 100).round(1)\n",
    "times_per_week_percentage = (survey_df['How many times do you go a week? '].value_counts(normalize=True) * 100).round(1)\n",
    "why_prefer_option_percentage = (survey_df['Why do you prefer this option?'].value_counts(normalize=True) * 100).round(1)\n",
    "why_go_when_go_percentage = (survey_df['Why do you go when you go?'].value_counts(normalize=True) * 100).round(1)"
   ]
  },
  {
   "cell_type": "markdown",
   "metadata": {},
   "source": [
    "Third, we need to print out the data to see the different percentages."
   ]
  },
  {
   "cell_type": "code",
   "execution_count": 9,
   "metadata": {},
   "outputs": [
    {
     "name": "stdout",
     "output_type": "stream",
     "text": [
      "Gender Percentage:\n",
      "Gender\n",
      "Female    64.7\n",
      "Male      35.3\n",
      "Name: proportion, dtype: float64\n",
      "\n",
      "Where to Eat Percentage:\n",
      "Where do you eat on campus? (Select all that apply)\n",
      "Viking Court             94.4\n",
      "Dining Hall              88.9\n",
      "Java City                72.2\n",
      "The Pod                  66.7\n",
      "Prepare your own food    61.1\n",
      "Name: count, dtype: float64\n",
      "\n",
      "Preferred Choice Percentage:\n",
      "What is your preferred choice?\n",
      "Viking Court             38.9\n",
      "Prepare your own food    27.8\n",
      "Java City                16.7\n",
      "Dining Hall              11.1\n",
      "The Pod                   5.6\n",
      "Name: proportion, dtype: float64\n",
      "\n",
      "When do You Go Percentage:\n",
      "When do you usually go?\n",
      "Afternoon;Evening    38.9\n",
      "Evening              22.2\n",
      "Afternoon            22.2\n",
      "Morning              11.1\n",
      "Morning;Evening       5.6\n",
      "Name: proportion, dtype: float64\n",
      "\n",
      "Times per Week Percentage:\n",
      "How many times do you go a week? \n",
      "< 7       61.1\n",
      "7 - 14    38.9\n",
      "Name: proportion, dtype: float64\n",
      "\n",
      "Why Prefer Option Percentage:\n",
      "Why do you prefer this option?\n",
      "Quality                                                           38.9\n",
      "Convenience                                                       33.3\n",
      "Price                                                             11.1\n",
      "Place                                                              5.6\n",
      "convenience and ability to eat in the library while I studied!     5.6\n",
      "Time                                                               5.6\n",
      "Name: proportion, dtype: float64\n",
      "\n",
      "Why Go When Go Percentage:\n",
      "Why do you go when you go?\n",
      "Time of day       44.4\n",
      "Convenience       44.4\n",
      "Social Reasons    11.1\n",
      "Name: proportion, dtype: float64\n"
     ]
    }
   ],
   "source": [
    "# Display the percentages\n",
    "print(\"Gender Percentage:\")\n",
    "print(gender_percentage)\n",
    "print(\"\\nWhere to Eat Percentage:\")\n",
    "print(where_to_eat_percentages)\n",
    "print(\"\\nPreferred Choice Percentage:\")\n",
    "print(preferred_choice_percentage)\n",
    "print(\"\\nWhen do You Go Percentage:\")\n",
    "print(when_do_you_go_percentage)\n",
    "print(\"\\nTimes per Week Percentage:\")\n",
    "print(times_per_week_percentage)\n",
    "print(\"\\nWhy Prefer Option Percentage:\")\n",
    "print(why_prefer_option_percentage)\n",
    "print(\"\\nWhy Go When Go Percentage:\")\n",
    "print(why_go_when_go_percentage)"
   ]
  },
  {
   "cell_type": "markdown",
   "metadata": {},
   "source": [
    "Lastly, we need to visualize the averages for men and women."
   ]
  },
  {
   "cell_type": "code",
   "execution_count": 10,
   "metadata": {},
   "outputs": [
    {
     "name": "stdout",
     "output_type": "stream",
     "text": [
      "\n",
      "Most Common Answers for Men:\n",
      "Timestamp                                                               2024/01/29 2:11:21 PM EST\n",
      "Year                                                                                       Junior\n",
      "Age                                                                                            20\n",
      "Gender                                                                                       Male\n",
      "Where do you eat on campus? (Select all that apply)    Dining Hall;Viking Court;The Pod;Java City\n",
      "What is your preferred choice?                                                       Viking Court\n",
      "When do you usually go?                                                         Afternoon;Evening\n",
      "How many times do you go a week?                                                           7 - 14\n",
      "Why do you prefer this option?                                                            Quality\n",
      "Why do you go when you go?                                                            Time of day\n",
      "Name: 0, dtype: object\n",
      "\n",
      "Most Common Answers for Women:\n",
      "Timestamp                                                                     2024/01/29 10:26:41 PM EST\n",
      "Year                                                                                              Junior\n",
      "Age                                                                                                   20\n",
      "Gender                                                                                            Female\n",
      "Where do you eat on campus? (Select all that apply)    Dining Hall;Viking Court;The Pod;Java City;Pre...\n",
      "What is your preferred choice?                                                     Prepare your own food\n",
      "When do you usually go?                                                                        Afternoon\n",
      "How many times do you go a week?                                                                     < 7\n",
      "Why do you prefer this option?                                                               Convenience\n",
      "Why do you go when you go?                                                                   Convenience\n",
      "Name: 0, dtype: object\n"
     ]
    }
   ],
   "source": [
    "# Most common answers for men\n",
    "most_common_for_men = survey_df[survey_df['Gender'] == 'Male'].mode().iloc[0]\n",
    "\n",
    "# Most common answers for women\n",
    "most_common_for_women = survey_df[survey_df['Gender'] == 'Female'].mode().iloc[0]\n",
    "\n",
    "print(\"\\nMost Common Answers for Men:\")\n",
    "print(most_common_for_men)\n",
    "\n",
    "print(\"\\nMost Common Answers for Women:\")\n",
    "print(most_common_for_women)"
   ]
  }
 ],
 "metadata": {
  "kernelspec": {
   "display_name": "base",
   "language": "python",
   "name": "python3"
  },
  "language_info": {
   "codemirror_mode": {
    "name": "ipython",
    "version": 3
   },
   "file_extension": ".py",
   "mimetype": "text/x-python",
   "name": "python",
   "nbconvert_exporter": "python",
   "pygments_lexer": "ipython3",
   "version": "3.11.5"
  }
 },
 "nbformat": 4,
 "nbformat_minor": 2
}
